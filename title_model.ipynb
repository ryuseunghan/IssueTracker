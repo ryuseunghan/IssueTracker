{
  "nbformat": 4,
  "nbformat_minor": 0,
  "metadata": {
    "colab": {
      "provenance": [],
      "gpuType": "T4",
      "include_colab_link": true
    },
    "kernelspec": {
      "name": "python3",
      "display_name": "Python 3"
    },
    "language_info": {
      "name": "python"
    },
    "accelerator": "GPU"
  },
  "cells": [
    {
      "cell_type": "markdown",
      "metadata": {
        "id": "view-in-github",
        "colab_type": "text"
      },
      "source": [
        "<a href=\"https://colab.research.google.com/github/ryuseunghan/IssueTracker/blob/main/title_model.ipynb\" target=\"_parent\"><img src=\"https://colab.research.google.com/assets/colab-badge.svg\" alt=\"Open In Colab\"/></a>"
      ]
    },
    {
      "cell_type": "code",
      "source": [
        "pip install konlpy"
      ],
      "metadata": {
        "colab": {
          "base_uri": "https://localhost:8080/"
        },
        "id": "rRLsV7YH3sEs",
        "outputId": "eef408e8-eba0-44c4-d8b7-8f2e41764f1d"
      },
      "execution_count": null,
      "outputs": [
        {
          "output_type": "stream",
          "name": "stdout",
          "text": [
            "Collecting konlpy\n",
            "  Downloading konlpy-0.6.0-py2.py3-none-any.whl (19.4 MB)\n",
            "\u001b[2K     \u001b[90m━━━━━━━━━━━━━━━━━━━━━━━━━━━━━━━━━━━━━━━━\u001b[0m \u001b[32m19.4/19.4 MB\u001b[0m \u001b[31m73.1 MB/s\u001b[0m eta \u001b[36m0:00:00\u001b[0m\n",
            "\u001b[?25hCollecting JPype1>=0.7.0 (from konlpy)\n",
            "  Downloading JPype1-1.4.1-cp310-cp310-manylinux_2_12_x86_64.manylinux2010_x86_64.whl (465 kB)\n",
            "\u001b[2K     \u001b[90m━━━━━━━━━━━━━━━━━━━━━━━━━━━━━━━━━━━━━━\u001b[0m \u001b[32m465.3/465.3 kB\u001b[0m \u001b[31m39.5 MB/s\u001b[0m eta \u001b[36m0:00:00\u001b[0m\n",
            "\u001b[?25hRequirement already satisfied: lxml>=4.1.0 in /usr/local/lib/python3.10/dist-packages (from konlpy) (4.9.3)\n",
            "Requirement already satisfied: numpy>=1.6 in /usr/local/lib/python3.10/dist-packages (from konlpy) (1.22.4)\n",
            "Requirement already satisfied: packaging in /usr/local/lib/python3.10/dist-packages (from JPype1>=0.7.0->konlpy) (23.1)\n",
            "Installing collected packages: JPype1, konlpy\n",
            "Successfully installed JPype1-1.4.1 konlpy-0.6.0\n"
          ]
        }
      ]
    },
    {
      "cell_type": "code",
      "source": [
        "import nltk\n",
        "nltk.download('punkt')"
      ],
      "metadata": {
        "colab": {
          "base_uri": "https://localhost:8080/"
        },
        "id": "LZlJ8L65AhIj",
        "outputId": "a7d83289-954a-4115-969e-3ba94ebfe465"
      },
      "execution_count": null,
      "outputs": [
        {
          "output_type": "stream",
          "name": "stderr",
          "text": [
            "[nltk_data] Downloading package punkt to /root/nltk_data...\n",
            "[nltk_data]   Unzipping tokenizers/punkt.zip.\n"
          ]
        },
        {
          "output_type": "execute_result",
          "data": {
            "text/plain": [
              "True"
            ]
          },
          "metadata": {},
          "execution_count": 2
        }
      ]
    },
    {
      "cell_type": "code",
      "source": [
        "from google.colab import drive\n",
        "drive.mount('/content/drive')"
      ],
      "metadata": {
        "colab": {
          "base_uri": "https://localhost:8080/"
        },
        "id": "9tMIPBD8nHZd",
        "outputId": "94d99428-8d48-45a9-958f-c424e42ce7ff"
      },
      "execution_count": null,
      "outputs": [
        {
          "output_type": "stream",
          "name": "stdout",
          "text": [
            "Mounted at /content/drive\n"
          ]
        }
      ]
    },
    {
      "cell_type": "code",
      "source": [
        "def preprocessing(text):\n",
        "    # 문제를 일으킬 수 있는 문자 제거\n",
        "    bad_chars = {\"\\u200b\": \"\", \"…\": \" ... \", \"\\ufeff\": \"\"}\n",
        "    for bad_char in bad_chars:\n",
        "        text = text.replace(bad_char, bad_chars[bad_char])\n",
        "\n",
        "    error_chars = {\"\\u3000\": \" \", \"\\u2009\": \" \", \"\\u2002\": \" \", \"\\xa0\":\" \"}\n",
        "    for error_char in error_chars:\n",
        "        text = text.replace(error_char, error_chars[error_char])\n",
        "\n",
        "    # 이메일 제거\n",
        "    text = re.sub(r\"[a-zA-Z0-9+-_.]+@[a-zA-Z0-9-]+\\.[a-zA-Z0-9-.]+\", \"[이메일]\", text).strip()\n",
        "\n",
        "    # \"#문자\" 형식 어절 제거\n",
        "    text = re.sub(r\"#\\S+\", \"\", text).strip()\n",
        "\n",
        "    # \"@문자\" 형식 어절 제거\n",
        "    text = re.sub(r\"@\\w+\", \"\", text).strip()\n",
        "\n",
        "    # URL 제거\n",
        "    text = re.sub(r\"(http|https)?:\\/\\/\\S+\\b|www\\.(\\w+\\.)+\\S*\", \"[웹주소]\", text).strip()\n",
        "    text = re.sub(r\"pic\\.(\\w+\\.)+\\S*\", \"[웹주소]\", text).strip()\n",
        "\n",
        "    # 뉴스 저작권 관련 텍스트 제거\n",
        "    re_patterns = [\n",
        "        r\"\\<저작권자(\\(c\\)|ⓒ|©|\\(Copyright\\)|(\\(c\\))|(\\(C\\))).+?\\>\",\n",
        "        r\"저작권자\\(c\\)|ⓒ|©|(Copyright)|(\\(c\\))|(\\(C\\))\"\n",
        "    ]\n",
        "\n",
        "    for re_pattern in re_patterns:\n",
        "        text = re.sub(re_pattern, \"\", text).strip()\n",
        "\n",
        "    # 뉴스 내 포함된 이미지에 대한 레이블 제거\n",
        "    text = re.sub(r\"\\(출처 ?= ?.+\\) |\\(사진 ?= ?.+\\) |\\(자료 ?= ?.+\\)| \\(자료사진\\) |사진=.+기자 \", \"\", text).strip()\n",
        "\n",
        "    # 중복 문자 처리\n",
        "    text = repeat_normalize(text, num_repeats=2).strip()\n",
        "\n",
        "    # 문제를 일으킬 수 있는 구두점 치환\n",
        "    punct_mapping = {\"‘\": \"'\", \"₹\": \"e\", \"´\": \"'\", \"°\": \"\", \"€\": \"e\", \"™\": \"tm\", \"√\": \" sqrt \", \"×\": \"x\", \"²\": \"2\", \"—\": \"-\", \"–\": \"-\", \"’\": \"'\", \"_\": \"-\", \"`\": \"'\", '“': '\"', '”': '\"', '“': '\"', \"£\": \"e\", '∞': 'infinity', 'θ': 'theta', '÷': '/', 'α': 'alpha', '•': '.', 'à': 'a', '−': '-', 'β': 'beta', '∅': '', '³': '3', 'π': 'pi', }\n",
        "    for p in punct_mapping:\n",
        "        text = text.replace(p, punct_mapping[p])\n",
        "\n",
        "    # 연속된 공백 치환\n",
        "    text = re.sub(r\"\\s+\", \" \", text).strip()\n",
        "\n",
        "    # 개행 문자 \"\\n\" 제거\n",
        "    text = text.replace('\\n', '')\n",
        "\n",
        "    return text"
      ],
      "metadata": {
        "id": "s0EmFRCSteI8"
      },
      "execution_count": null,
      "outputs": []
    },
    {
      "cell_type": "code",
      "source": [
        "import csv\n",
        "from datetime import datetime\n",
        "\n",
        "start_date = datetime.strptime('2023-07-15', '%Y-%m-%d').date()\n",
        "end_date = datetime.strptime('2023-07-17', '%Y-%m-%d').date()  # 기간 설정\n",
        "file_path = '/content/drive/MyDrive/이슈트래커/query_result.csv'\n",
        "text = ''\n",
        "\n",
        "with open(file_path, 'r', encoding='utf-8') as f:\n",
        "    data = csv.reader(f, delimiter=',')\n",
        "    header = next(data)\n",
        "    for row in data:\n",
        "        date_string = row[3]  # Assuming the date is in the second column (index 1)\n",
        "        row_date = datetime.strptime(date_string, '%Y-%m-%d %H:%M:%S').date()\n",
        "        if start_date <= row_date <= end_date:\n",
        "           text += preprocessing(row[1])\n"
      ],
      "metadata": {
        "id": "DVygXfQoElTe"
      },
      "execution_count": null,
      "outputs": []
    },
    {
      "cell_type": "code",
      "source": [
        "from konlpy.tag import Okt\n",
        "import nltk\n",
        "\n",
        "t = Okt()\n",
        "\n",
        "text = text.replace('\\n', '')\n",
        "\n",
        "const_doc =text\n",
        "tokens_const = t.nouns(const_doc)\n",
        "tokens_const = [token for token in tokens_const if len(token) > 1]\n",
        "stopwords = ['포토'] # 포토 제거\n",
        "clean_tokens_const = []\n",
        "\n",
        "for token in tokens_const:\n",
        "  if token not in stopwords:\n",
        "    clean_tokens_const.append(token)\n",
        "f.close()"
      ],
      "metadata": {
        "id": "Q3a7BSfv-L1P"
      },
      "execution_count": null,
      "outputs": []
    },
    {
      "cell_type": "code",
      "source": [
        "const_cnt = {}\n",
        "max_words = 20\n",
        "\n",
        "for word in clean_tokens_const:\n",
        "    const_cnt[word] = const_cnt.get(word, 0) + 1\n",
        "sorted_w = sorted(const_cnt.items(), key=lambda kv: kv[1])\n",
        "result = sorted_w[-max_words:]\n",
        "result.reverse()\n",
        "print(result)"
      ],
      "metadata": {
        "colab": {
          "base_uri": "https://localhost:8080/"
        },
        "id": "DJu3eBXGGkJu",
        "outputId": "370b22a7-826a-4fe7-e926-397ae4ba7cca"
      },
      "execution_count": null,
      "outputs": [
        {
          "output_type": "stream",
          "name": "stdout",
          "text": [
            "[('올스타전', 27), ('올스타', 16), ('채은성', 15), ('우승', 10), ('롯데', 10), ('소크라테스', 8), ('감독', 8), ('홈런', 8), ('김민석', 7), ('사인', 6), ('퓨처', 6), ('기록', 6), ('구자욱', 5), ('홈런레이스', 5), ('싱글벙글', 5), ('수상', 5), ('승리', 5), ('김하성', 5), ('박세웅', 5), ('참가', 4)]\n"
          ]
        }
      ]
    },
    {
      "cell_type": "markdown",
      "source": [
        "## 본문으로 키워드 추출"
      ],
      "metadata": {
        "id": "u0puJErSXNfm"
      }
    },
    {
      "cell_type": "code",
      "source": [
        "import csv\n",
        "from datetime import datetime\n",
        "\n",
        "start_date = datetime.strptime('2023-07-15', '%Y-%m-%d').date()\n",
        "end_date = datetime.strptime('2023-07-17', '%Y-%m-%d').date()  # 기간 설정\n",
        "file_path = '/content/drive/MyDrive/이슈트래커/query_result.csv'\n",
        "text = ''\n",
        "\n",
        "with open(file_path, 'r', encoding='utf-8') as f:\n",
        "    data = csv.reader(f, delimiter=',')\n",
        "    header = next(data)\n",
        "    for row in data:\n",
        "        date_string = row[3]  # Assuming the date is in the second column (index 1)\n",
        "        row_date = datetime.strptime(date_string, '%Y-%m-%d %H:%M:%S').date()\n",
        "        if start_date <= row_date <= end_date:\n",
        "           text += row[2]\n"
      ],
      "metadata": {
        "id": "RDP1DYjzXKA4"
      },
      "execution_count": null,
      "outputs": []
    },
    {
      "cell_type": "code",
      "source": [
        "from konlpy.tag import Okt\n",
        "import nltk\n",
        "\n",
        "t = Okt()\n",
        "\n",
        "text = text.replace('\\n', '')\n",
        "\n",
        "const_doc =text\n",
        "tokens_const = t.nouns(const_doc)\n",
        "tokens_const = [token for token in tokens_const if len(token) > 1]\n",
        "stopwords = ['기자','보기','경기'] # 포토 제거\n",
        "clean_tokens_const = []\n",
        "\n",
        "for token in tokens_const:\n",
        "  if token not in stopwords:\n",
        "    clean_tokens_const.append(token)\n",
        "f.close()"
      ],
      "metadata": {
        "id": "Mw_5EZirXKDe"
      },
      "execution_count": null,
      "outputs": []
    },
    {
      "cell_type": "code",
      "source": [
        "const_cnt = {}\n",
        "max_words = 20\n",
        "\n",
        "for word in clean_tokens_const:\n",
        "    const_cnt[word] = const_cnt.get(word, 0) + 1\n",
        "sorted_w = sorted(const_cnt.items(), key=lambda kv: kv[1])\n",
        "result = sorted_w[-max_words:]\n",
        "result.reverse()\n",
        "print(result)"
      ],
      "metadata": {
        "colab": {
          "base_uri": "https://localhost:8080/"
        },
        "id": "SgZWWI9OXZfO",
        "outputId": "f5ac354d-f73f-4e99-afbf-c772df5fca35"
      },
      "execution_count": null,
      "outputs": [
        {
          "output_type": "stream",
          "name": "stdout",
          "text": [
            "[('올스타', 275), ('올스타전', 184), ('사직', 131), ('나눔', 131), ('부산', 129), ('신한은행', 128), ('현희', 126), ('사직야구장', 123), ('드림', 121), ('리그', 88), ('기록', 87), ('시즌', 73), ('홈런', 71), ('감독', 71), ('선수', 69), ('우승', 56), ('대회', 52), ('소년', 51), ('사진', 48), ('롯데', 46)]\n"
          ]
        }
      ]
    }
  ]
}